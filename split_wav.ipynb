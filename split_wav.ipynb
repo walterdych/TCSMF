{
 "cells": [
  {
   "cell_type": "code",
   "execution_count": 4,
   "metadata": {},
   "outputs": [],
   "source": [
    "from pydub import AudioSegment\n",
    "from praatio import textgrid\n",
    "import os\n",
    "\n",
    "def create_textgrid_with_intervals(wav_file, output_textgrid, interval_duration=10):\n",
    "    # Load the WAV file\n",
    "    audio = AudioSegment.from_wav(wav_file)\n",
    "    \n",
    "    # Get the duration of the audio in seconds\n",
    "    duration_seconds = len(audio) / 1000.0\n",
    "    \n",
    "    # Create intervals at every `interval_duration` seconds\n",
    "    intervals = []\n",
    "    start_time = 0\n",
    "    while start_time < duration_seconds:\n",
    "        end_time = min(start_time + interval_duration, duration_seconds)\n",
    "        intervals.append((start_time, end_time, \"interval\"))\n",
    "        start_time = end_time\n",
    "    \n",
    "    # Create a TextGrid object\n",
    "    tg = textgrid.Textgrid()\n",
    "    tier = textgrid.IntervalTier(name=\"IntervalTier\", entries=intervals, minT=0, maxT=duration_seconds)\n",
    "    tg.addTier(tier)\n",
    "    \n",
    "    # Save the TextGrid\n",
    "    tg.save(output_textgrid, format=\"long_textgrid\", includeBlankSpaces=True)\n",
    "\n",
    "# Example usage\n",
    "wav_file = \"audio/Clear_Audio5_1.0x.wav\"\n",
    "output_textgrid = \"Clear_Audio5_1.0x.TextGrid\"\n",
    "create_textgrid_with_intervals(wav_file, output_textgrid)\n"
   ]
  },
  {
   "cell_type": "code",
   "execution_count": null,
   "metadata": {},
   "outputs": [],
   "source": []
  }
 ],
 "metadata": {
  "kernelspec": {
   "display_name": "Python 3",
   "language": "python",
   "name": "python3"
  },
  "language_info": {
   "codemirror_mode": {
    "name": "ipython",
    "version": 3
   },
   "file_extension": ".py",
   "mimetype": "text/x-python",
   "name": "python",
   "nbconvert_exporter": "python",
   "pygments_lexer": "ipython3",
   "version": "3.11.7"
  }
 },
 "nbformat": 4,
 "nbformat_minor": 2
}
